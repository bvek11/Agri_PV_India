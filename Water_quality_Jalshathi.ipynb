{
  "nbformat": 4,
  "nbformat_minor": 0,
  "metadata": {
    "colab": {
      "private_outputs": true,
      "provenance": []
    },
    "kernelspec": {
      "name": "python3",
      "display_name": "Python 3"
    },
    "language_info": {
      "name": "python"
    }
  },
  "cells": [
    {
      "cell_type": "code",
      "execution_count": null,
      "metadata": {
        "collapsed": true,
        "id": "6ZkNY0dAlj05"
      },
      "outputs": [],
      "source": [
        "import pandas as pd\n",
        "\n",
        "# Define the function to classify water quality\n",
        "def classify_water_quality(row):\n",
        "    # Define thresholds for classification\n",
        "    pH_range = (6.5, 8.5)\n",
        "    EC_threshold = 1000  # µS/cm\n",
        "    TH_range = (100, 300)  # mg/L\n",
        "    Ca_threshold = 100  # mg/L\n",
        "    Mg_threshold = 50  # mg/L\n",
        "    Na_threshold = 200  # mg/L\n",
        "    Cl_threshold = 250  # mg/L\n",
        "    SO4_threshold = 250  # mg/L\n",
        "    NO3_threshold = 10  # mg/L\n",
        "    F_threshold = (0.5, 1.5)  # mg/L\n",
        "    U_threshold = 30  # ppb\n",
        "\n",
        "    # Check each parameter against the thresholds\n",
        "    remarks = []\n",
        "\n",
        "    # pH\n",
        "    if not (pH_range[0] <= row['PH'] <= pH_range[1]):\n",
        "        remarks.append(\"pH out of range\")\n",
        "\n",
        "    # EC\n",
        "    if row['EC'] > EC_threshold:\n",
        "        remarks.append(\"EC exceeds limit\")\n",
        "\n",
        "    # Total Hardness (TH)\n",
        "    if not (TH_range[0] <= row['TH*'] <= TH_range[1]):\n",
        "        remarks.append(\"Hardness out of range\")\n",
        "\n",
        "    # Calcium (Ca)\n",
        "    if row['Ca'] > Ca_threshold:\n",
        "        remarks.append(\"Calcium exceeds limit\")\n",
        "\n",
        "    # Magnesium (Mg)\n",
        "    if row['Mg'] > Mg_threshold:\n",
        "        remarks.append(\"Magnesium exceeds limit\")\n",
        "\n",
        "    # Sodium (Na)\n",
        "    if row['Na'] > Na_threshold:\n",
        "        remarks.append(\"Sodium exceeds limit\")\n",
        "\n",
        "    # Chloride (Cl)\n",
        "    if row['Cl'] > Cl_threshold:\n",
        "        remarks.append(\"Chloride exceeds limit\")\n",
        "\n",
        "    # Sulfate (SO4)\n",
        "    if row['SO4'] > SO4_threshold:\n",
        "        remarks.append(\"Sulfate exceeds limit\")\n",
        "\n",
        "    # Nitrate (NO3)\n",
        "    if row['NO3'] > NO3_threshold:\n",
        "        remarks.append(\"Nitrate exceeds limit\")\n",
        "\n",
        "    # Fluoride (F)\n",
        "    if not (F_threshold[0] <= row['F'] <= F_threshold[1]):\n",
        "        remarks.append(\"Fluoride out of range\")\n",
        "\n",
        "    # Uranium (U)\n",
        "    if row['U'] > U_threshold:\n",
        "        remarks.append(\"Uranium exceeds limit\")\n",
        "\n",
        "    # If any remarks were added, the water is not satisfactory\n",
        "    if remarks:\n",
        "        return \"Not Satisfactory\", \"; \".join(remarks)\n",
        "    else:\n",
        "        return \"Satisfactory\", \"All parameters within limits\"\n",
        "\n",
        "# Read the CSV data\n",
        "df = pd.read_csv(r\"/content/drive/MyDrive/waterquality_jalshakthi - Sheet1.csv\")\n",
        "\n",
        "# Apply the classification function to each row in the DataFrame\n",
        "df[['Satisfactory?', 'Remark']] = df.apply(classify_water_quality, axis=1, result_type=\"expand\")\n",
        "\n",
        "# Save the modified data back to a new CSV file\n",
        "df.to_csv(r\"/content/drive/MyDrive/WQI_SAT_UnSAT.csv\", index=False)\n",
        "df\n",
        "#print(\"Water quality classification complete. The results have been saved to 'classified_water_quality_data.csv'.\")\n"
      ]
    },
    {
      "cell_type": "code",
      "source": [
        "import pandas as pd\n",
        "\n",
        "# Define the function to classify water quality\n",
        "def classify_water_quality(row):\n",
        "    # Define thresholds for classification\n",
        "    pH_range = (6.5, 8.5)\n",
        "    EC_threshold = 1000  # µS/cm\n",
        "    TH_range = (100, 300)  # mg/L\n",
        "    Ca_threshold = 100  # mg/L\n",
        "    Mg_threshold = 50  # mg/L\n",
        "    Na_threshold = 200  # mg/L\n",
        "    Cl_threshold = 250  # mg/L\n",
        "    SO4_threshold = 250  # mg/L\n",
        "    NO3_threshold = 10  # mg/L\n",
        "    F_threshold = (0.5, 1.5)  # mg/L\n",
        "    U_threshold = 30  # ppb\n",
        "\n",
        "    # Track the number of parameters that are out of the desired range\n",
        "    out_of_range_count = 0\n",
        "    remarks = []\n",
        "\n",
        "    # pH\n",
        "    if not (pH_range[0] <= row['PH'] <= pH_range[1]):\n",
        "        out_of_range_count += 1\n",
        "        remarks.append(\"pH out of range\")\n",
        "\n",
        "    # EC\n",
        "    if row['EC'] > EC_threshold:\n",
        "        out_of_range_count += 1\n",
        "        remarks.append(\"EC exceeds limit\")\n",
        "\n",
        "    # Total Hardness (TH)\n",
        "    if not (TH_range[0] <= row['TH*'] <= TH_range[1]):\n",
        "        out_of_range_count += 1\n",
        "        remarks.append(\"Hardness out of range\")\n",
        "\n",
        "    # Calcium (Ca)\n",
        "    if row['Ca'] > Ca_threshold:\n",
        "        out_of_range_count += 1\n",
        "        remarks.append(\"Calcium exceeds limit\")\n",
        "\n",
        "    # Magnesium (Mg)\n",
        "    if row['Mg'] > Mg_threshold:\n",
        "        out_of_range_count += 1\n",
        "        remarks.append(\"Magnesium exceeds limit\")\n",
        "\n",
        "    # Sodium (Na)\n",
        "    if row['Na'] > Na_threshold:\n",
        "        out_of_range_count += 1\n",
        "        remarks.append(\"Sodium exceeds limit\")\n",
        "\n",
        "    # Chloride (Cl)\n",
        "    if row['Cl'] > Cl_threshold:\n",
        "        out_of_range_count += 1\n",
        "        remarks.append(\"Chloride exceeds limit\")\n",
        "\n",
        "    # Sulfate (SO4)\n",
        "    if row['SO4'] > SO4_threshold:\n",
        "        out_of_range_count += 1\n",
        "        remarks.append(\"Sulfate exceeds limit\")\n",
        "\n",
        "    # Nitrate (NO3)\n",
        "    if row['NO3'] > NO3_threshold:\n",
        "        out_of_range_count += 1\n",
        "        remarks.append(\"Nitrate exceeds limit\")\n",
        "\n",
        "    # Fluoride (F)\n",
        "    if not (F_threshold[0] <= row['F'] <= F_threshold[1]):\n",
        "        out_of_range_count += 1\n",
        "        remarks.append(\"Fluoride out of range\")\n",
        "\n",
        "    # Uranium (U)\n",
        "    if row['U'] > U_threshold:\n",
        "        out_of_range_count += 1\n",
        "        remarks.append(\"Uranium exceeds limit\")\n",
        "\n",
        "    # If 3 or more parameters are out of range, it's considered unsatisfactory\n",
        "    if out_of_range_count >= 3:\n",
        "        return \"Not Satisfactory\", \"; \".join(remarks)\n",
        "    else:\n",
        "        return \"Satisfactory\", \"All parameters within limits or less than 3 exceedances\"\n",
        "\n",
        "# Read the CSV data\n",
        "df = pd.read_csv(r\"/content/drive/MyDrive/waterquality_jalshakthi - Sheet1.csv\")\n",
        "\n",
        "# Apply the classification function to each row in the DataFrame\n",
        "df[['Sat/NoSat', 'Remark']] = df.apply(classify_water_quality, axis=1, result_type=\"expand\")\n",
        "\n",
        "# Save the modified data back to a new CSV file\n",
        "df.to_csv(r\"/content/drive/MyDrive/SAT_UNSAT_03.csv\", index=False)\n",
        "\n",
        "#print(\"Water quality classification complete. The results have been saved to 'classified_water_quality_data.csv'.\")\n"
      ],
      "metadata": {
        "id": "IXnCntEYyHIX"
      },
      "execution_count": null,
      "outputs": []
    },
    {
      "cell_type": "code",
      "source": [
        "import pandas as pd\n"
      ],
      "metadata": {
        "id": "Fr_PTw5fLvIF"
      },
      "execution_count": null,
      "outputs": []
    },
    {
      "cell_type": "code",
      "source": [
        "water=pd.read_csv(r\"/content/drive/MyDrive/SAR_RSC_%Na.csv\")"
      ],
      "metadata": {
        "id": "7gTRwToaLeDM"
      },
      "execution_count": null,
      "outputs": []
    },
    {
      "cell_type": "code",
      "source": [
        "water"
      ],
      "metadata": {
        "id": "al-BfG-eLm40"
      },
      "execution_count": null,
      "outputs": []
    },
    {
      "cell_type": "code",
      "source": [
        "# prompt: if SAR is below 10, RSC is below1.25 and %Na is less than 20 then create a new column saying  as Bad, if else Say Yes\n",
        "\n",
        "import pandas as pd\n",
        "\n",
        "# Assuming your DataFrame is named 'water'\n",
        "def classify_water(row):\n",
        "    if row['SAR'] < 10 and row['RSC'] < 1.25 and row['%Na'] < 20:\n",
        "        return 'good'\n",
        "    else:\n",
        "        return 'bad'\n",
        "\n",
        "water['Quality'] = water.apply(classify_water, axis=1)"
      ],
      "metadata": {
        "id": "u85bYTFLM9fD"
      },
      "execution_count": null,
      "outputs": []
    },
    {
      "cell_type": "code",
      "source": [
        "water['Quality'].value_counts().get('good', 0)\n",
        "\n"
      ],
      "metadata": {
        "id": "xjHYw1LzRTqG"
      },
      "execution_count": null,
      "outputs": []
    },
    {
      "cell_type": "code",
      "source": [
        "water"
      ],
      "metadata": {
        "id": "s3tEsRMiPnFr"
      },
      "execution_count": null,
      "outputs": []
    },
    {
      "cell_type": "code",
      "source": [
        "\n",
        "import pandas as pd\n",
        "\n",
        "# Assuming your DataFrame is named 'water'\n",
        "def classify_water(row):\n",
        "    if row['SAR'] < 12 :\n",
        "        return '1'\n",
        "    else:\n",
        "        return '0'\n",
        "\n",
        "water['SAR_value'] = water.apply(classify_water, axis=1)\n",
        "\n",
        "# del water['Quality']\n"
      ],
      "metadata": {
        "id": "ORhO-Qc8P517"
      },
      "execution_count": null,
      "outputs": []
    },
    {
      "cell_type": "code",
      "source": [
        "water"
      ],
      "metadata": {
        "id": "xDAb0LUeSCn0"
      },
      "execution_count": null,
      "outputs": []
    },
    {
      "cell_type": "code",
      "source": [
        "water['SAR_value'].value_counts().get('0', 0)\n"
      ],
      "metadata": {
        "id": "4EferAqdQFV0"
      },
      "execution_count": null,
      "outputs": []
    },
    {
      "cell_type": "code",
      "source": [
        "list(water.columns)"
      ],
      "metadata": {
        "id": "P57X6-KTUEYc"
      },
      "execution_count": null,
      "outputs": []
    },
    {
      "cell_type": "code",
      "source": [
        "waternew = water[['SL No',\n",
        " 'District',\n",
        " 'Location',\n",
        " 'Latitude',\n",
        " 'Longitude','PH','Na','Ca','Mg',\n",
        " 'SAR','SAR_value']]\n",
        "\n",
        "waternew\n"
      ],
      "metadata": {
        "id": "YZEg9KneT1vs"
      },
      "execution_count": null,
      "outputs": []
    },
    {
      "cell_type": "code",
      "source": [
        "waternew.to_csv("", index=False)\n"
      ],
      "metadata": {
        "id": "FdCHtv3mUwtl"
      },
      "execution_count": null,
      "outputs": []
    }
  ]
}
