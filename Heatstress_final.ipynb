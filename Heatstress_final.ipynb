{
  "nbformat": 4,
  "nbformat_minor": 0,
  "metadata": {
    "colab": {
      "private_outputs": true,
      "provenance": []
    },
    "kernelspec": {
      "name": "python3",
      "display_name": "Python 3"
    },
    "language_info": {
      "name": "python"
    }
  },
  "cells": [
    {
      "cell_type": "code",
      "execution_count": null,
      "metadata": {
        "collapsed": true,
        "id": "5JRdmZrxFW55"
      },
      "outputs": [],
      "source": [
        "pip install rasterio"
      ]
    },
    {
      "cell_type": "markdown",
      "source": [],
      "metadata": {
        "id": "ACy5ufMEGR9x"
      }
    },
    {
      "cell_type": "code",
      "source": [
        "import os\n",
        "import numpy as np\n",
        "import rasterio\n",
        "from rasterio.enums import Resampling\n",
        "\n",
        "# Directory containing the input TIFF files\n",
        "input_dir = \"/content/drive/MyDrive/Heatstress/2023_0_1\"\n",
        "output_tiff = '/content/drive/MyDrive/output_count_40.tif'\n",
        "\n",
        "# Load all tiff file paths\n",
        "tiff_files = sorted([os.path.join(input_dir, f) for f in os.listdir(input_dir) if f.endswith('.tif')])\n",
        "\n",
        "# Open first file to get metadata (assuming all TIFFs have the same metadata)\n",
        "with rasterio.open(tiff_files[0]) as src:\n",
        "    meta = src.meta.copy()\n",
        "    nodata_value = src.nodata\n",
        "\n",
        "# Initialize an array to store the counts with same shape as each input TIFF\n",
        "output_array = np.full((meta['height'], meta['width']), nodata_value, dtype=np.int32)\n",
        "\n",
        "# Process each pixel for consecutive streaks of \"1\"\n",
        "for row in range(meta['height']):\n",
        "    for col in range(meta['width']):\n",
        "        consecutive_count = 0\n",
        "        max_streak = 0\n",
        "\n",
        "        for tiff_path in tiff_files:\n",
        "            with rasterio.open(tiff_path) as src:\n",
        "                pixel_value = src.read(1, resampling=Resampling.nearest)[row, col]\n",
        "\n",
        "                # Check if pixel is NoData; if so, break and mark as NoData\n",
        "                if pixel_value == nodata_value:\n",
        "                    max_streak = nodata_value\n",
        "                    break\n",
        "\n",
        "                # Count consecutive \"1\"s\n",
        "                if pixel_value == 1:\n",
        "                    consecutive_count += 1\n",
        "                else:\n",
        "                    if consecutive_count >= 40:  # Keep count only if 3 or more consecutive \"1\"s\n",
        "                        max_streak = consecutive_count\n",
        "                    consecutive_count = 0  # Reset streak on \"0\"\n",
        "\n",
        "        # Update output array for pixels with streak >= 3, else set to 0 or NoData\n",
        "        if max_streak != nodata_value:\n",
        "            output_array[row, col] = max_streak if max_streak >= 3 else 0\n",
        "\n",
        "# Write output to new TIFF\n",
        "meta.update(dtype=rasterio.int32)\n",
        "with rasterio.open(output_tiff, 'w', **meta) as dst:\n",
        "    dst.write(output_array, 1)\n",
        "\n",
        "print(f\"Output saved to {output_tiff}\")\n"
      ],
      "metadata": {
        "id": "0phtUQ_4F8Qz"
      },
      "execution_count": null,
      "outputs": []
    },
    {
      "cell_type": "code",
      "source": [
        "import rasterio\n",
        "import os\n",
        "\n",
        "# Set the directory where your TIFF files are located\n",
        "tiff_directory = r\"/content/drive/MyDrive/Heatstress/2023_0_1\"\n",
        "tiff_files = sorted([f for f in os.listdir(tiff_directory) if f.endswith('.tif')])\n",
        "\n",
        "# Initialize a dictionary to store the longest streak data for each pixel\n",
        "# Structure: {pixel_index: {\"max_streak\": int, \"files\": [file names]}}\n",
        "pixel_streaks = {}\n",
        "\n",
        "# Read the first file to get the dimensions of the raster\n",
        "with rasterio.open(os.path.join(tiff_directory, tiff_files[0])) as src:\n",
        "    width, height = src.width, src.height\n",
        "\n",
        "# Process each pixel position\n",
        "for y in range(height):\n",
        "    for x in range(width):\n",
        "        max_streak = 0\n",
        "        current_streak = 0\n",
        "        streak_files = []\n",
        "        max_streak_files = []\n",
        "\n",
        "        # Iterate over each file (representing each day)\n",
        "        for filename in tiff_files:\n",
        "            filepath = os.path.join(tiff_directory, filename)\n",
        "\n",
        "            # Open the TIFF file and read the pixel value at (x, y)\n",
        "            with rasterio.open(filepath) as src:\n",
        "                pixel_value = src.read(1)[y, x]\n",
        "\n",
        "            if pixel_value == 1:\n",
        "                # Increment the current streak and add file to streak_files\n",
        "                current_streak += 1\n",
        "                streak_files.append(filename)\n",
        "            else:\n",
        "                # If streak ends, check if it was the longest\n",
        "                if current_streak > max_streak:\n",
        "                    max_streak = current_streak\n",
        "                    max_streak_files = streak_files.copy()\n",
        "\n",
        "                # Reset the current streak\n",
        "                current_streak = 0\n",
        "                streak_files = []\n",
        "\n",
        "        # Final check at the end of the file list\n",
        "        if current_streak > max_streak:\n",
        "            max_streak = current_streak\n",
        "            max_streak_files = streak_files.copy()\n",
        "\n",
        "        # Store the result if there's any streak of `1`s\n",
        "        if max_streak > 0:\n",
        "            pixel_index = (y, x)\n",
        "            pixel_streaks[pixel_index] = {\"max_streak\": max_streak, \"files\": max_streak_files}\n",
        "\n",
        "# Write the result to a text file\n",
        "output_file = r\"/content/drive/MyDrive/popcons.txt\"\n",
        "with open(output_file, \"w\") as f:\n",
        "    for pixel, data in pixel_streaks.items():\n",
        "        f.write(f\"Pixel: {pixel}, Max Streak: {data['max_streak']}, Files: {', '.join(data['files'])}\\n\")\n",
        "\n",
        "print(f\"Results written to {output_file}\")\n"
      ],
      "metadata": {
        "id": "2_Q07UJBLtcc"
      },
      "execution_count": null,
      "outputs": []
    }
  ]
}